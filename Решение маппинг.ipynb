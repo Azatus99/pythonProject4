{
 "cells": [
  {
   "cell_type": "code",
   "execution_count": 1,
   "id": "8e0c6101-1231-499a-9a8b-d80fb0235ea1",
   "metadata": {},
   "outputs": [],
   "source": [
    "#Импортируем нужные библиотеки\n",
    "import pandas as pd\n",
    "import os"
   ]
  },
  {
   "cell_type": "code",
   "execution_count": 2,
   "id": "d486263e-7535-4771-9567-9d477d9c1b58",
   "metadata": {},
   "outputs": [],
   "source": [
    "#Создаем функцию для загрузки файла, которая примет имя файла и промежуток столбцов, который нужен нам\n",
    "def load_data(filename, range):\n",
    "    df = pd.read_excel(f\"{os.getcwd()}/{filename}\", header=3, usecols=range)\n",
    "    first_row_with_all_NaN = df[df.isnull().all(axis=1) == True].index.tolist()[0]\n",
    "    df = df.loc[0:first_row_with_all_NaN-1]\n",
    "    return df\n"
   ]
  },
  {
   "cell_type": "code",
   "execution_count": 3,
   "id": "e669bdcb-429e-42a9-bd31-ab9f59ebb078",
   "metadata": {
    "scrolled": true
   },
   "outputs": [],
   "source": [
    "#Здесь мы исправляем ошибки, как лишние пробелы, в т.ч. неразрывные пробелы\n",
    "name = \"mapping_тестовое задание.xlsx\"\n",
    "df1 = load_data(name, \"A:E\")\n",
    "df1[\"name\"] = df1['first_name'] + ' ' + df1['last_name'] + ' ' + df1['surname']\n",
    "df1['name'] = df1['name'].str.replace(r'\\s+', ' ', regex=True)\n",
    "df2 = load_data(name, \"G:I\")\n",
    "df2.rename(columns={\"company.1\":\"company\"}, inplace=True)\n",
    "df2['name'] = df2['name'].str.replace('\\xa0', ' ')\n",
    "df2['name'] = df2['name'].str.replace(r'\\s+', ' ', regex=True)"
   ]
  },
  {
   "cell_type": "code",
   "execution_count": 4,
   "id": "b4de3c4d-42d9-460e-ad68-2c8272f0f9eb",
   "metadata": {},
   "outputs": [],
   "source": [
    "#Это функция для сопоставления id_2 с именами и компаниями, принимающая одну переменную\n",
    "def get_id_2(row):\n",
    "    name = row['name']\n",
    "    company = row['company']\n",
    "    \n",
    "    matches = df2[(df2['company'] == company) & (df2['name'].str.lower() == name.lower())]['id_2'].unique()\n",
    "    \n",
    "    if len(matches) == 1:\n",
    "        return matches[0]\n",
    "    else:\n",
    "        return \"\"\n",
    "#Здесь мы применяем эту функцию\n",
    "df1['id_2'] = df1.apply(get_id_2, axis=1)"
   ]
  },
  {
   "cell_type": "code",
   "execution_count": 5,
   "id": "741cb6d8-8ea3-4b37-98d2-b3b79bb55e1e",
   "metadata": {},
   "outputs": [],
   "source": [
    "#Это функция для генерации комментов, тоже принимающая одну переменную\n",
    "def get_id_2_comments(row):\n",
    "    name = row['name']\n",
    "    company = row['company']\n",
    "    \n",
    "    matches = df2[(df2['company'] == company) & (df2['name'].str.lower() == name.lower())]['id_2'].unique()\n",
    "    \n",
    "    if len(matches) == 0:\n",
    "        return \"Подходящей записи в source_2 не найдено\"\n",
    "    elif len(matches) > 1:\n",
    "        return f\"Невозможно установить однозначное соответствие. В source_2 {len(matches)} подходящих записи с id_2: {', '.join(map(str, matches))}\"\n",
    "    else:\n",
    "        return \"\"\n",
    "#Здесь мы применяем эту функцию\n",
    "df1['comments'] = df1.apply(get_id_2_comments, axis=1)"
   ]
  },
  {
   "cell_type": "code",
   "execution_count": 6,
   "id": "832b6634-bb4e-4103-bdd2-1088c04e6b0a",
   "metadata": {},
   "outputs": [],
   "source": [
    "#Удаляем именную колонку, созданную ранее и сохраняем данные в эксель\n",
    "df1.drop(columns=['name'], inplace=True)\n",
    "df1.to_excel(f\"{os.getcwd()}/output.xlsx\")\n"
   ]
  },
  {
   "cell_type": "code",
   "execution_count": null,
   "id": "782a7636-de5c-4b96-b90e-c54a0d08c953",
   "metadata": {},
   "outputs": [],
   "source": []
  }
 ],
 "metadata": {
  "kernelspec": {
   "display_name": "Python 3 (ipykernel)",
   "language": "python",
   "name": "python3"
  },
  "language_info": {
   "codemirror_mode": {
    "name": "ipython",
    "version": 3
   },
   "file_extension": ".py",
   "mimetype": "text/x-python",
   "name": "python",
   "nbconvert_exporter": "python",
   "pygments_lexer": "ipython3",
   "version": "3.11.0"
  }
 },
 "nbformat": 4,
 "nbformat_minor": 5
}
